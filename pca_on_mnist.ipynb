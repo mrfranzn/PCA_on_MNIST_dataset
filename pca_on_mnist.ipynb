{
 "cells": [
  {
   "cell_type": "code",
   "execution_count": 1,
   "metadata": {
    "scrolled": true
   },
   "outputs": [],
   "source": [
    "import numpy as np\n",
    "import matplotlib.pyplot as plt\n",
    "\n",
    "# there are 28*28=784 pixels in each image\n",
    "image_size = 28 # width and length\n",
    "no_of_different_labels = 10 #  i.e. 0, 1, 2, 3, ..., 9\n",
    "image_pixels = image_size * image_size\n",
    "data_path = \"data/\"\n",
    "train_data = np.loadtxt(data_path + \"mnist_train.csv\", \n",
    "                        delimiter=\",\")\n",
    "test_data = np.loadtxt(data_path + \"mnist_test.csv\", \n",
    "                       delimiter=\",\") "
   ]
  },
  {
   "cell_type": "markdown",
   "metadata": {},
   "source": [
    "# Introduction\n",
    "\n",
    "We classify handwritten digits from the MNIST database using Principal Component Analysis. The effectivness of the classification is compared to that of the centroid classifier that classifies an integer with the label that minimizes the the euclidean distance from the mean of that label in the training data. Using $5$ principal components increases the accuracy of the classification with about $14 \\%$ from the centroid method."
   ]
  },
  {
   "cell_type": "markdown",
   "metadata": {},
   "source": [
    "## The data"
   ]
  },
  {
   "cell_type": "markdown",
   "metadata": {},
   "source": [
    "The datasets <code>train_data</code> and <code>test_data</code> are arrays where each element is itself an array of length $785$; the first element of this array of length $785$ is the label of the picture - i.e. says which number the picture represents - and the remaining $784$ elements are the pixels of the image - each pixel taking a value in the range $[0, 255]$."
   ]
  },
  {
   "cell_type": "code",
   "execution_count": 37,
   "metadata": {},
   "outputs": [
    {
     "data": {
      "text/plain": [
       "array([[5., 0., 0., ..., 0., 0., 0.],\n",
       "       [0., 0., 0., ..., 0., 0., 0.],\n",
       "       [4., 0., 0., ..., 0., 0., 0.],\n",
       "       [1., 0., 0., ..., 0., 0., 0.],\n",
       "       [9., 0., 0., ..., 0., 0., 0.]])"
      ]
     },
     "execution_count": 37,
     "metadata": {},
     "output_type": "execute_result"
    }
   ],
   "source": [
    "train_data[:5]"
   ]
  },
  {
   "cell_type": "code",
   "execution_count": 20,
   "metadata": {
    "scrolled": true
   },
   "outputs": [
    {
     "name": "stdout",
     "output_type": "stream",
     "text": [
      "785\n",
      "5.0\n",
      "0.0\n",
      "4.0\n"
     ]
    }
   ],
   "source": [
    "# length of first element in training dataset\n",
    "print(len(train_data[0]))\n",
    "\n",
    "# print the first three labels\n",
    "for i in range(3):\n",
    "    print(train_data[i][0])"
   ]
  },
  {
   "cell_type": "markdown",
   "metadata": {},
   "source": [
    "Below is the number of pixels in the first image in the training dataset that has the value $253$ and the value $255$."
   ]
  },
  {
   "cell_type": "code",
   "execution_count": 35,
   "metadata": {},
   "outputs": [
    {
     "name": "stdout",
     "output_type": "stream",
     "text": [
      "54\n",
      "1\n"
     ]
    }
   ],
   "source": [
    "print(sum(train_data[0]==253),\n",
    "      sum(train_data[0]==255),\n",
    "      sep='\\n')"
   ]
  },
  {
   "cell_type": "markdown",
   "metadata": {},
   "source": [
    "## Printing images"
   ]
  },
  {
   "cell_type": "markdown",
   "metadata": {},
   "source": [
    "Below is how to print the images in the dataset with </code>.imshow()</code> from Matplotlib.pyplot."
   ]
  },
  {
   "cell_type": "code",
   "execution_count": 70,
   "metadata": {},
   "outputs": [
    {
     "data": {
      "image/png": "[encoded data removed]",
      "text/plain": [
       "<Figure size 432x288 with 1 Axes>"
      ]
     },
     "metadata": {
      "needs_background": "light"
     },
     "output_type": "display_data"
    },
    {
     "data": {
      "image/png": "[encoded data removed]",
      "text/plain": [
       "<Figure size 432x288 with 1 Axes>"
      ]
     },
     "metadata": {
      "needs_background": "light"
     },
     "output_type": "display_data"
    },
    {
     "data": {
      "image/png": "[encoded data removed]",
      "text/plain": [
       "<Figure size 432x288 with 1 Axes>"
      ]
     },
     "metadata": {
      "needs_background": "light"
     },
     "output_type": "display_data"
    },
    {
     "data": {
      "image/png": "[encoded data removed]",
      "text/plain": [
       "<Figure size 432x288 with 1 Axes>"
      ]
     },
     "metadata": {
      "needs_background": "light"
     },
     "output_type": "display_data"
    }
   ],
   "source": [
    "for i in range(4):\n",
    "    img = train_imgs[i].reshape((28,28))\n",
    "    plt.imshow(img, cmap=\"Greys\")\n",
    "    plt.show()"
   ]
  },
  {
   "cell_type": "markdown",
   "metadata": {},
   "source": [
    "### Printing the mean of an integer\n",
    "To print the mean image of an integer, we first need to extract the images from a particular label. To select the rows corresponding to the label <code>0</code> we use the Boolean mask <code>zeros = train_data[:, 0] == 0</code> (the condition says: all rows where the 0:th column equals $0$). After masking for the rows that are labeled zero, we exclude the first column (that contains the label).\n",
    "\n",
    "We then calculate the mean array by <code>np.mean( , axis=0)</code> over the rows. \n",
    "\n",
    "Lastly, we convert the *mean* array to the shape 28x28 and print as above."
   ]
  },
  {
   "cell_type": "markdown",
   "metadata": {},
   "source": [
    "Below, first the mean of $O$ is printed, then all the means."
   ]
  },
  {
   "cell_type": "code",
   "execution_count": 211,
   "metadata": {
    "scrolled": true
   },
   "outputs": [
    {
     "data": {
      "image/png": "[encoded data removed]",
      "text/plain": [
       "<Figure size 432x288 with 1 Axes>"
      ]
     },
     "metadata": {
      "needs_background": "light"
     },
     "output_type": "display_data"
    }
   ],
   "source": [
    "# mask for rows labeled 0\n",
    "mask = train_data[:, 0] == 0\n",
    "zeros = train_data[mask][:, 1:]\n",
    "zeros_mean = np.mean(zeros, axis=0)\n",
    "img = zeros_mean.reshape((28,28))\n",
    "plt.imshow(img, cmap=\"Greys\")\n",
    "plt.show()"
   ]
  },
  {
   "cell_type": "code",
   "execution_count": 212,
   "metadata": {
    "scrolled": true
   },
   "outputs": [
    {
     "data": {
      "image/png": "[encoded data removed]",
      "text/plain": [
       "<Figure size 432x288 with 10 Axes>"
      ]
     },
     "metadata": {
      "needs_background": "light"
     },
     "output_type": "display_data"
    }
   ],
   "source": [
    "# create a layot of 10 subplots\n",
    "fig, axs = plt.subplots(2,5)\n",
    "\n",
    "# flatten axs to be able to loop over a one-dim index\n",
    "axs = axs.flat\n",
    "\n",
    "for i in range(10):\n",
    "    # mask for rows labeled i\n",
    "    mask = train_data[:, 0] == i\n",
    "    filtered_data = train_data[mask][:, 1:]\n",
    "    filtered_data_means = np.mean(filtered_data, axis=0)\n",
    "    img = filtered_data_means.reshape((28,28))\n",
    "    axs[i].imshow(img, cmap=\"Greys\")\n",
    "    axs[i].set_axis_off()\n",
    "plt.show()"
   ]
  },
  {
   "cell_type": "markdown",
   "metadata": {},
   "source": [
    "# Part 1: The centroid method\n",
    "\n",
    "#### Step a: Calculate the distance between the means and the test image\n",
    "\n",
    "We need to be able to calculate the distnace between a digit and the means from the 10 different labels in the training dataset. To do so we calculate the means for each label in a for loop and store the mean arrays in a matrix."
   ]
  },
  {
   "cell_type": "code",
   "execution_count": 4,
   "metadata": {},
   "outputs": [],
   "source": [
    "means = np.empty((10, 784))\n",
    "for i in range(10):\n",
    "    # mask for rows labeled i\n",
    "    mask = train_data[:, 0] == i\n",
    "    filtered_data = train_data[mask][:, 1:]\n",
    "    filtered_data_means = np.mean(filtered_data, axis=0) \n",
    "    means[i] = filtered_data_means\n"
   ]
  },
  {
   "cell_type": "code",
   "execution_count": 58,
   "metadata": {},
   "outputs": [
    {
     "data": {
      "text/plain": [
       "(10, 784)"
      ]
     },
     "execution_count": 58,
     "metadata": {},
     "output_type": "execute_result"
    }
   ],
   "source": [
    "means.shape"
   ]
  },
  {
   "cell_type": "markdown",
   "metadata": {},
   "source": [
    "Given a single digit we may calculate a list of 10 distances (the norm used here is the Euclidian norm) - one distance for each mean digit.\n",
    "\n",
    "To get the index of the minimum of the list of distances we may use\n",
    "<code>\n",
    "min_val = min(list)\n",
    "index_min = list.index(min_val).\n",
    "</code>"
   ]
  },
  {
   "cell_type": "code",
   "execution_count": 134,
   "metadata": {},
   "outputs": [
    {
     "name": "stdout",
     "output_type": "stream",
     "text": [
      "Label of the digit is  7\n",
      "The minimum distance is to the mean of label:  7\n"
     ]
    }
   ],
   "source": [
    "digit = test_data[0]\n",
    "distances = []\n",
    "\n",
    "for i in range(10):\n",
    "    dist = np.linalg.norm(means[i] - digit[1:])\n",
    "    distances.append(dist)\n",
    "\n",
    "min_dist = min(distances)\n",
    "index_min = distances.index(min_dist)\n",
    "\n",
    "print('Label of the digit is ', digit[0].astype(int))\n",
    "print('The minimum distance is to the mean of label: ', index_min)\n"
   ]
  },
  {
   "cell_type": "markdown",
   "metadata": {},
   "source": [
    "To avoid a for loop we could subtract <code>digit[1:]</code> from each row in the mean array (for this to work we need to have <code>digit[1:]</code> of shape (784,) and not (784) (?)) and then call <code>np.linalg.norm()</code> on each row (by the keyword argument <code>axis=1</code>) on the array of differences.\n",
    "\n",
    "To get the index of the minimum of the array we may use\n",
    "<code>\n",
    "index = np.argmin(np_array).\n",
    "</code>"
   ]
  },
  {
   "cell_type": "code",
   "execution_count": 149,
   "metadata": {},
   "outputs": [
    {
     "name": "stdout",
     "output_type": "stream",
     "text": [
      "Label of the digit is  7\n",
      "The minimum distance is to the mean of label:  7\n"
     ]
    }
   ],
   "source": [
    "digit = test_data[0]\n",
    "\n",
    "differences = means - digit[1:]\n",
    "\n",
    "# calculate norm for each row, i.e. along axis 1\n",
    "distances = np.linalg.norm(differences, axis=1)\n",
    "\n",
    "index_min = np.argmin(distances)\n",
    "\n",
    "print('Label of the digit is ', digit[0].astype(int))\n",
    "print('The minimum distance is to the mean of label: ', index_min)"
   ]
  },
  {
   "cell_type": "markdown",
   "metadata": {},
   "source": [
    "#### Step b: Classify a set of digits\n",
    "\n",
    "We would now like to turn the above into a function that takes two arguments: (1) an array of $n$ digits - that is an $n$ by $784$ array - and (2) an $10$-by-$784$ array of the mean digits. The function then returns the $n$ predicted labels."
   ]
  },
  {
   "cell_type": "markdown",
   "metadata": {},
   "source": [
    "We define a function that relies on the broadcasting of NumPy to handle operations between different shapes."
   ]
  },
  {
   "cell_type": "code",
   "execution_count": 2,
   "metadata": {},
   "outputs": [],
   "source": [
    "def centroid_classifier(data, means):\n",
    "    \n",
    "    differences = data - means[:, None]\n",
    "    \n",
    "    distances = np.linalg.norm(differences, axis=2)\n",
    "    \n",
    "    return np.argmin(distances, axis=0)"
   ]
  },
  {
   "cell_type": "markdown",
   "metadata": {},
   "source": [
    "#### Step c: Report the success rate (correct/total) of each digit\n"
   ]
  },
  {
   "cell_type": "markdown",
   "metadata": {},
   "source": [
    "To che the total number of correct labels we could use:"
   ]
  },
  {
   "cell_type": "code",
   "execution_count": 63,
   "metadata": {},
   "outputs": [
    {
     "data": {
      "text/plain": [
       "8203"
      ]
     },
     "execution_count": 63,
     "metadata": {},
     "output_type": "execute_result"
    }
   ],
   "source": [
    "labeled_data = centroid_classifier(test_data[:, 1:], means)\n",
    "sum(labeled_data == test_data[:, :1].flatten())"
   ]
  },
  {
   "cell_type": "markdown",
   "metadata": {},
   "source": [
    "To check to success rate of a particular number we would have to use a mask:"
   ]
  },
  {
   "cell_type": "code",
   "execution_count": 64,
   "metadata": {
    "scrolled": true
   },
   "outputs": [
    {
     "data": {
      "text/plain": [
       "0.8959183673469387"
      ]
     },
     "execution_count": 64,
     "metadata": {},
     "output_type": "execute_result"
    }
   ],
   "source": [
    "mask = test_data[:, :1].flatten() == 0\n",
    "\n",
    "sum(labeled_data[mask] == 0) / sum(mask)"
   ]
  },
  {
   "cell_type": "markdown",
   "metadata": {},
   "source": [
    "To report the success rate of each digit we would then use a loop:"
   ]
  },
  {
   "cell_type": "code",
   "execution_count": 5,
   "metadata": {
    "scrolled": false
   },
   "outputs": [
    {
     "name": "stdout",
     "output_type": "stream",
     "text": [
      "success rate for0:  0.8959183673469387\n",
      "success rate for1:  0.9621145374449339\n",
      "success rate for2:  0.7567829457364341\n",
      "success rate for3:  0.805940594059406\n",
      "success rate for4:  0.8258655804480651\n",
      "success rate for5:  0.6860986547085202\n",
      "success rate for6:  0.8632567849686847\n",
      "success rate for7:  0.8326848249027238\n",
      "success rate for8:  0.7371663244353183\n",
      "success rate for9:  0.8067393458870169\n"
     ]
    }
   ],
   "source": [
    "labeled_data = centroid_classifier(test_data[:, 1:], means)\n",
    "success_rates_centroid = np.zeros(10)\n",
    "for i in range(10):\n",
    "    mask = test_data[:, :1].flatten() == i\n",
    "    \n",
    "    success_rate =  sum(labeled_data[mask] == i) / sum(mask)\n",
    "    success_rates_centroid[i] = success_rate\n",
    "    \n",
    "    print('success rate for' + str(i) + ': ', \n",
    "          success_rate\n",
    "         )"
   ]
  },
  {
   "cell_type": "markdown",
   "metadata": {},
   "source": [
    "# Part 2: The PCA Method\n",
    "\n",
    "#### Step a: FInd the principal components of the training set"
   ]
  },
  {
   "cell_type": "markdown",
   "metadata": {},
   "source": [
    "Find the first five singular vectors of the *transpose* of the training data labeled three."
   ]
  },
  {
   "cell_type": "code",
   "execution_count": 328,
   "metadata": {},
   "outputs": [],
   "source": [
    "mask = train_data[:, 0] == 3\n",
    "\n",
    "train3 = train_data[:, 1:][mask]\n",
    "\n",
    "# get SVD\n",
    "u, s, v = np.linalg.svd(train3.T)"
   ]
  },
  {
   "cell_type": "code",
   "execution_count": 329,
   "metadata": {},
   "outputs": [
    {
     "data": {
      "text/plain": [
       "(784, 5)"
      ]
     },
     "execution_count": 329,
     "metadata": {},
     "output_type": "execute_result"
    }
   ],
   "source": [
    "u[:, :5].shape"
   ]
  },
  {
   "cell_type": "markdown",
   "metadata": {},
   "source": [
    "We may extract the part of the \"information\" of the training set ( labeled three) from the first five singular vectors (both left and right) and the first five singular values."
   ]
  },
  {
   "cell_type": "code",
   "execution_count": 243,
   "metadata": {},
   "outputs": [],
   "source": [
    "reduced_img = u[:, :5] @ np.diag(s[:5]) @ v[:5, :]"
   ]
  },
  {
   "cell_type": "markdown",
   "metadata": {},
   "source": [
    "As is illustrated below, the first image from the training set looks quiete much like the first image from the reduced training set."
   ]
  },
  {
   "cell_type": "code",
   "execution_count": 256,
   "metadata": {
    "scrolled": true
   },
   "outputs": [
    {
     "data": {
      "image/png": "[encoded data removed]",
      "text/plain": [
       "<Figure size 432x288 with 2 Axes>"
      ]
     },
     "metadata": {
      "needs_background": "light"
     },
     "output_type": "display_data"
    }
   ],
   "source": [
    "_, axs = plt.subplots(1,2)\n",
    "\n",
    "axs[0].imshow(train3[0].reshape(28, 28), cmap=\"Greys\")\n",
    "axs[0].set_title('Image from original matrix')\n",
    "\n",
    "axs[1].imshow(reduced_img.T[0].reshape(28, 28), cmap=\"Greys\")\n",
    "axs[1].set_title('Image from reduced matrix')\n",
    "\n",
    "plt.show()"
   ]
  },
  {
   "cell_type": "markdown",
   "metadata": {},
   "source": [
    "We now define matrices\n",
    "\n",
    "$$\n",
    "\\mathrm U_k, \\quad k=0, \\dots, 9\n",
    "$$\n",
    "\n",
    "as matrices consisting of the first five left-singular vectors from the SVD of the $k$:th labeled training data.\n",
    "\n",
    "Further, given any image $z$, we minimize the distance from $z$ to\n",
    "\n",
    "$$\n",
    "\\mathrm U_k x, \\quad x \\in \\mathbb R^5 (?).\n",
    "$$\n",
    "\n",
    "The minimum is given by\n",
    "\n",
    "$$\n",
    "\\|z - \\mathrm U_k \\mathrm U_k^T z \\|.\n",
    "$$\n",
    "\n",
    "The classification we now deploy is to classify an image $z$ as number $k$ where $k$ gives the minim of\n",
    "\n",
    "$$\n",
    "\\|z - \\mathrm U_k \\mathrm U_k^T z \\|, \\quad k=0, \\dots, 9.\n",
    "$$"
   ]
  },
  {
   "cell_type": "markdown",
   "metadata": {},
   "source": [
    "Below we verify that <code>z</code> (which of course is of shape <code>(784,)</code>) is comparable to <code>u[:, :5] @ u[:, :5].T</code>."
   ]
  },
  {
   "cell_type": "code",
   "execution_count": 332,
   "metadata": {},
   "outputs": [
    {
     "name": "stdout",
     "output_type": "stream",
     "text": [
      "(784, 784)\n",
      "(784,)\n"
     ]
    }
   ],
   "source": [
    "print((u[:, :5] @ u[:, :5].T).shape, \n",
    "      ((u[:, :5] @ u[:, :5].T) @ test_data[0][1:]).shape, \n",
    "      sep='\\n')"
   ]
  },
  {
   "cell_type": "markdown",
   "metadata": {},
   "source": [
    "We compute the matrices $\\mathrm U_k \\mathrm U_k^T $ for $k=0, \\dots, k=9$ but stack them on top of each other so that we get a matrix $\\mathrm U$ of the shape $10 \\cdot 784$ by $784$. We may then multiply\n",
    "\n",
    "$$\n",
    "\\mathrm U z\n",
    "$$\n",
    "\n",
    "to get a vector of length $10 \\cdot 784$ which we may reshap to be a matrix of shape $10$ by $780$ where the $i$:th row is the vector from \n",
    "\n",
    "$$\n",
    "\\mathrm U_i \\mathrm U_i^T z.\n",
    "$$\n",
    "\n",
    "With the previosly mentioned broadcasting property, NumPy interprets <code>z - U @ U.T @ z</code> as that <code>z</code> gets subtracted (elementwise) from each of the $10$ rows in <code> U @ U.T @ z</code>. We may then calculate the norm of each row in this calculated difference to get the desired output of $\\| z - \\mathrm U_k \\mathrm U_k^T z \\|$ for $k=0, \\dots, 9$."
   ]
  },
  {
   "cell_type": "code",
   "execution_count": 6,
   "metadata": {},
   "outputs": [],
   "source": [
    "U = np.empty((10*784, 784))\n",
    "\n",
    "for i in range(10):\n",
    "    mask = train_data[:, 0] == i\n",
    "\n",
    "    train = train_data[:, 1:][mask]\n",
    "\n",
    "    u, _, _ = np.linalg.svd(train.T)\n",
    "    \n",
    "    U[i*784:(i+1)*784] = u[:, :5] @ u[:, :5].T\n",
    "    "
   ]
  },
  {
   "cell_type": "markdown",
   "metadata": {},
   "source": [
    "Lets see if we get the same output as on page 8-9 in the pdf (note that Matlab has indexing starting with 1 but Pyhon has indexing starting with 0):"
   ]
  },
  {
   "cell_type": "code",
   "execution_count": 3,
   "metadata": {
    "scrolled": true
   },
   "outputs": [
    {
     "data": {
      "text/plain": [
       "array([2185.93970472, 2171.96741755, 2130.54744718, 2157.26161157,\n",
       "       1487.30267226, 2120.82023063, 2025.37029377, 1982.42365024,\n",
       "       1961.78322204, 1731.5566978 ])"
      ]
     },
     "execution_count": 3,
     "metadata": {},
     "output_type": "execute_result"
    }
   ],
   "source": [
    "mask = test_data[:, 0] == 4\n",
    "\n",
    "train4 = test_data[:, 1:][mask]\n",
    "\n",
    "np.linalg.norm(train4[13] - \\\n",
    "               (U @ train4[13]).reshape(10, 784), axis=1)"
   ]
  },
  {
   "cell_type": "markdown",
   "metadata": {},
   "source": [
    "We will now write function that classifies an $n$-by-$784$ matrix of $n$ digits. This could be done with a loop, but as mentioned earlier, NumPy is faster if we avoid such loops. Thus we will again deploy NumPy's broadcasting capabilities."
   ]
  },
  {
   "cell_type": "markdown",
   "metadata": {},
   "source": [
    "We will use <code>np.einsum()</code> (see [here](https://stackoverflow.com/questions/26089893/understanding-numpys-einsum/26099744) for an exposition). If we look at the shapes of <code>U</code> and <code>test_data[:, 1:]</code> "
   ]
  },
  {
   "cell_type": "code",
   "execution_count": 39,
   "metadata": {
    "scrolled": false
   },
   "outputs": [
    {
     "name": "stdout",
     "output_type": "stream",
     "text": [
      "(7840, 784)\n",
      "(10000, 784)\n"
     ]
    }
   ],
   "source": [
    "print(U.shape,\n",
    "      test_data[:, 1:].shape,\n",
    "      sep='\\n'\n",
    "      )"
   ]
  },
  {
   "cell_type": "markdown",
   "metadata": {},
   "source": [
    "we see that for each row in the former and for each row in the latter, we want to multiply the element at the <code>j</code>:th column in <code>U</code> with the element at the <code>j</code>:th column in <code>test_data[:, 1:]</code> and then sum. This can be done with\n",
    "\n",
    "<code>np.einsum('ij,kj->ik')</code>,\n",
    "    \n",
    "and should return an element with as many rows as <code>U</code> and as manny columns as <code>test_data[:, 1:]</code> has rows. We verify that this is the case:"
   ]
  },
  {
   "cell_type": "code",
   "execution_count": 40,
   "metadata": {},
   "outputs": [
    {
     "data": {
      "text/plain": [
       "(7840, 2)"
      ]
     },
     "execution_count": 40,
     "metadata": {},
     "output_type": "execute_result"
    }
   ],
   "source": [
    "(np.einsum('ij,kj->ik', U, test_data[:2, 1:])).shape"
   ]
  },
  {
   "cell_type": "markdown",
   "metadata": {},
   "source": [
    "We could then reshape the returned object to the shape <code>(10, 784, 5)</code> and consider the difference with a singel digit:"
   ]
  },
  {
   "cell_type": "code",
   "execution_count": 42,
   "metadata": {},
   "outputs": [
    {
     "data": {
      "text/plain": [
       "(10, 784, 2)"
      ]
     },
     "execution_count": 42,
     "metadata": {},
     "output_type": "execute_result"
    }
   ],
   "source": [
    "(test_data[:2, 1:].T - (np.einsum('ij,kj->ik', U, test_data[:2, 1:])).reshape(10, 784, 2)).shape"
   ]
  },
  {
   "cell_type": "markdown",
   "metadata": {},
   "source": [
    "And lastly calculate the norm along the correct axis, here along <code>axis=1</code>, the one which has $784$ elements. Comparing this with a loop with the matrix consisting of the two first rows from the <code>test_data</code> we get the same output."
   ]
  },
  {
   "cell_type": "code",
   "execution_count": 36,
   "metadata": {
    "scrolled": false
   },
   "outputs": [
    {
     "name": "stdout",
     "output_type": "stream",
     "text": [
      "[1698.18074918 1896.90420857 1604.17464917 1766.37408212 1111.37059019\n",
      " 1695.19166883 1626.06889005 1547.1939073  1560.92912747 1239.67341953]\n",
      "[1824.53749056 1779.30270097 1829.09020065 1713.38857658 1395.93186884\n",
      " 1657.42232378 1767.3290182  1665.01712813 1617.74822231 1533.61132209]\n"
     ]
    }
   ],
   "source": [
    "for i in range(2):\n",
    "    print(np.linalg.norm(train4[i] - \\\n",
    "               (U @ train4[i]).reshape(10, 784), axis=1))"
   ]
  },
  {
   "cell_type": "code",
   "execution_count": 38,
   "metadata": {
    "scrolled": false
   },
   "outputs": [
    {
     "data": {
      "text/plain": [
       "array([[1698.18074918, 1896.90420857, 1604.17464917, 1766.37408212,\n",
       "        1111.37059019, 1695.19166883, 1626.06889005, 1547.1939073 ,\n",
       "        1560.92912747, 1239.67341953],\n",
       "       [1824.53749056, 1779.30270097, 1829.09020065, 1713.38857658,\n",
       "        1395.93186884, 1657.42232378, 1767.3290182 , 1665.01712813,\n",
       "        1617.74822231, 1533.61132209]])"
      ]
     },
     "execution_count": 38,
     "metadata": {},
     "output_type": "execute_result"
    }
   ],
   "source": [
    "np.linalg.norm(train4[:2].T - (np.einsum('ij,kj->ik', U, train4[:2])).reshape(10, 784, 2),\n",
    "               axis=1).T"
   ]
  },
  {
   "cell_type": "markdown",
   "metadata": {},
   "source": [
    "We put this in a function:"
   ]
  },
  {
   "cell_type": "code",
   "execution_count": 7,
   "metadata": {},
   "outputs": [],
   "source": [
    "def pca_classifier(data, U):\n",
    "    \n",
    "    # numner of digits in data\n",
    "    n = data.shape[0]\n",
    "    \n",
    "    differences = data[:n].T - (np.einsum('ij,kj->ik', \n",
    "                                            U, data[:n])).reshape(10, 784, n)\n",
    "    \n",
    "    distances = np.linalg.norm(differences, axis=1)\n",
    "    \n",
    "    return np.argmin(distances, axis=0)"
   ]
  },
  {
   "cell_type": "code",
   "execution_count": 51,
   "metadata": {},
   "outputs": [
    {
     "data": {
      "text/plain": [
       "array([7, 2], dtype=int64)"
      ]
     },
     "execution_count": 51,
     "metadata": {},
     "output_type": "execute_result"
    }
   ],
   "source": [
    "pca_classifier(test_data[:2, 1:], U)"
   ]
  },
  {
   "cell_type": "code",
   "execution_count": 52,
   "metadata": {},
   "outputs": [
    {
     "data": {
      "text/plain": [
       "array([7., 2.])"
      ]
     },
     "execution_count": 52,
     "metadata": {},
     "output_type": "execute_result"
    }
   ],
   "source": [
    "test_data[:2, 0]"
   ]
  },
  {
   "cell_type": "markdown",
   "metadata": {},
   "source": [
    "#### Step b: Test and report the success rate"
   ]
  },
  {
   "cell_type": "code",
   "execution_count": 9,
   "metadata": {},
   "outputs": [
    {
     "name": "stdout",
     "output_type": "stream",
     "text": [
      "success rate for0:  0.9785714285714285\n",
      "success rate for1:  0.9920704845814978\n",
      "success rate for2:  0.9021317829457365\n",
      "success rate for3:  0.9376237623762376\n",
      "success rate for4:  0.8981670061099797\n",
      "success rate for5:  0.9013452914798207\n",
      "success rate for6:  0.9624217118997912\n",
      "success rate for7:  0.8929961089494164\n",
      "success rate for8:  0.9004106776180698\n",
      "success rate for9:  0.8889990089197225\n"
     ]
    }
   ],
   "source": [
    "labeled_data = pca_classifier(test_data[:, 1:], U)\n",
    "success_rates_pca = np.zeros(10)\n",
    "for i in range(10):\n",
    "    mask = test_data[:, :1].flatten() == i\n",
    "    \n",
    "    success_rate =  sum(labeled_data[mask] == i) / sum(mask)\n",
    "    success_rates_pca[i] = success_rate\n",
    "    \n",
    "    print('success rate for' + str(i) + ': ', \n",
    "          success_rate\n",
    "         )"
   ]
  },
  {
   "cell_type": "markdown",
   "metadata": {},
   "source": [
    "This is better than the result from the Centroid classifier! How much is printed below."
   ]
  },
  {
   "cell_type": "code",
   "execution_count": 11,
   "metadata": {},
   "outputs": [
    {
     "data": {
      "text/plain": [
       "1.1390831520425695"
      ]
     },
     "execution_count": 11,
     "metadata": {},
     "output_type": "execute_result"
    }
   ],
   "source": [
    "np.mean(success_rates_pca / success_rates_centroid)"
   ]
  },
  {
   "cell_type": "markdown",
   "metadata": {},
   "source": [
    "That an a mean improvement of about $14 \\%$."
   ]
  },
  {
   "cell_type": "markdown",
   "metadata": {},
   "source": [
    "### How does performance increase with more principal components?\n",
    "Let us try to double the number of left-singular vectors we use in <code>U</code> and see how this increases the accuracy."
   ]
  },
  {
   "cell_type": "code",
   "execution_count": 16,
   "metadata": {},
   "outputs": [],
   "source": [
    "U = np.empty((10*784, 784))\n",
    "\n",
    "for i in range(10):\n",
    "    mask = train_data[:, 0] == i\n",
    "\n",
    "    train = train_data[:, 1:][mask]\n",
    "\n",
    "    u, _, _ = np.linalg.svd(train.T)\n",
    "    \n",
    "    U[i*784:(i+1)*784] = u[:, :10] @ u[:, :10].T"
   ]
  },
  {
   "cell_type": "code",
   "execution_count": 17,
   "metadata": {},
   "outputs": [
    {
     "name": "stdout",
     "output_type": "stream",
     "text": [
      "success rate for0:  0.9877551020408163\n",
      "success rate for1:  0.9947136563876652\n",
      "success rate for2:  0.9273255813953488\n",
      "success rate for3:  0.9425742574257425\n",
      "success rate for4:  0.9562118126272913\n",
      "success rate for5:  0.9192825112107623\n",
      "success rate for6:  0.965553235908142\n",
      "success rate for7:  0.933852140077821\n",
      "success rate for8:  0.917864476386037\n",
      "success rate for9:  0.9326065411298315\n"
     ]
    }
   ],
   "source": [
    "labeled_data = pca_classifier(test_data[:, 1:], U)\n",
    "success_rates_pca_10 = np.zeros(10)\n",
    "\n",
    "for i in range(10):\n",
    "    mask = test_data[:, :1].flatten() == i\n",
    "    \n",
    "    success_rate =  sum(labeled_data[mask] == i) / sum(mask)\n",
    "    success_rates_pca_10[i] = success_rate\n",
    "    \n",
    "    print('success rate for' + str(i) + ': ', \n",
    "          success_rate\n",
    "         )"
   ]
  },
  {
   "cell_type": "markdown",
   "metadata": {},
   "source": [
    "We get some improvement! In fact a mean improvement of about $2.5 \\%$."
   ]
  },
  {
   "cell_type": "code",
   "execution_count": 18,
   "metadata": {
    "scrolled": true
   },
   "outputs": [
    {
     "data": {
      "text/plain": [
       "1.0247224304864377"
      ]
     },
     "execution_count": 18,
     "metadata": {},
     "output_type": "execute_result"
    }
   ],
   "source": [
    "np.mean(success_rates_pca_10 / success_rates_pca)"
   ]
  }
 ],
 "metadata": {
  "kernelspec": {
   "display_name": "Python 3",
   "language": "python",
   "name": "python3"
  },
  "language_info": {
   "codemirror_mode": {
    "name": "ipython",
    "version": 3
   },
   "file_extension": ".py",
   "mimetype": "text/x-python",
   "name": "python",
   "nbconvert_exporter": "python",
   "pygments_lexer": "ipython3",
   "version": "3.7.4"
  }
 },
 "nbformat": 4,
 "nbformat_minor": 4
}
